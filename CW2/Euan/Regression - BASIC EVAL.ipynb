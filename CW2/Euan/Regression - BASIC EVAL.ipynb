{
 "cells": [
  {
   "cell_type": "markdown",
   "metadata": {},
   "source": [
    "# Imports"
   ]
  },
  {
   "cell_type": "code",
   "execution_count": 59,
   "metadata": {},
   "outputs": [],
   "source": [
    "from sklearn.datasets import load_iris\n",
    "from sklearn.svm import SVC\n",
    "from sklearn.model_selection import GridSearchCV, KFold\n",
    "from sklearn.metrics import classification_report\n",
    "import pandas as pd\n",
    "import numpy as np\n",
    "from sklearn.decomposition import PCA\n",
    "from sklearn.svm import SVR\n",
    "from sklearn.preprocessing import StandardScaler, Normalizer\n",
    "from sklearn.impute import SimpleImputer\n",
    "from sklearn.metrics import mean_squared_error, r2_score, mean_absolute_error"
   ]
  },
  {
   "cell_type": "markdown",
   "metadata": {},
   "source": [
    "# Data Prep\n"
   ]
  },
  {
   "cell_type": "code",
   "execution_count": 60,
   "metadata": {},
   "outputs": [
    {
     "data": {
      "text/html": [
       "<div>\n",
       "<style scoped>\n",
       "    .dataframe tbody tr th:only-of-type {\n",
       "        vertical-align: middle;\n",
       "    }\n",
       "\n",
       "    .dataframe tbody tr th {\n",
       "        vertical-align: top;\n",
       "    }\n",
       "\n",
       "    .dataframe thead th {\n",
       "        text-align: right;\n",
       "    }\n",
       "</style>\n",
       "<table border=\"1\" class=\"dataframe\">\n",
       "  <thead>\n",
       "    <tr style=\"text-align: right;\">\n",
       "      <th></th>\n",
       "      <th>RelapseFreeSurvival (outcome)</th>\n",
       "    </tr>\n",
       "    <tr>\n",
       "      <th>ID</th>\n",
       "      <th></th>\n",
       "    </tr>\n",
       "  </thead>\n",
       "  <tbody>\n",
       "    <tr>\n",
       "      <th>TRG002174</th>\n",
       "      <td>144.000000</td>\n",
       "    </tr>\n",
       "    <tr>\n",
       "      <th>TRG002178</th>\n",
       "      <td>142.000000</td>\n",
       "    </tr>\n",
       "    <tr>\n",
       "      <th>TRG002204</th>\n",
       "      <td>135.000000</td>\n",
       "    </tr>\n",
       "    <tr>\n",
       "      <th>TRG002206</th>\n",
       "      <td>12.000000</td>\n",
       "    </tr>\n",
       "    <tr>\n",
       "      <th>TRG002210</th>\n",
       "      <td>109.000000</td>\n",
       "    </tr>\n",
       "    <tr>\n",
       "      <th>...</th>\n",
       "      <td>...</td>\n",
       "    </tr>\n",
       "    <tr>\n",
       "      <th>TRG002948</th>\n",
       "      <td>54.500000</td>\n",
       "    </tr>\n",
       "    <tr>\n",
       "      <th>TRG002954</th>\n",
       "      <td>49.250000</td>\n",
       "    </tr>\n",
       "    <tr>\n",
       "      <th>TRG002958</th>\n",
       "      <td>48.500000</td>\n",
       "    </tr>\n",
       "    <tr>\n",
       "      <th>TRG002961</th>\n",
       "      <td>47.500000</td>\n",
       "    </tr>\n",
       "    <tr>\n",
       "      <th>TRG002962</th>\n",
       "      <td>46.916667</td>\n",
       "    </tr>\n",
       "  </tbody>\n",
       "</table>\n",
       "<p>400 rows × 1 columns</p>\n",
       "</div>"
      ],
      "text/plain": [
       "           RelapseFreeSurvival (outcome)\n",
       "ID                                      \n",
       "TRG002174                     144.000000\n",
       "TRG002178                     142.000000\n",
       "TRG002204                     135.000000\n",
       "TRG002206                      12.000000\n",
       "TRG002210                     109.000000\n",
       "...                                  ...\n",
       "TRG002948                      54.500000\n",
       "TRG002954                      49.250000\n",
       "TRG002958                      48.500000\n",
       "TRG002961                      47.500000\n",
       "TRG002962                      46.916667\n",
       "\n",
       "[400 rows x 1 columns]"
      ]
     },
     "execution_count": 60,
     "metadata": {},
     "output_type": "execute_result"
    }
   ],
   "source": [
    "data = pd.read_csv('../TrainDataset2024.csv', index_col=0)\n",
    "\n",
    "#MISSING DATA\n",
    "data.replace(999, np.nan, inplace=True)\n",
    "\n",
    "imputer = SimpleImputer(strategy='median')\n",
    "data = pd.DataFrame(imputer.fit_transform(data), columns=data.columns,index=data.index)\n",
    "\n",
    "\n",
    "target = data[['RelapseFreeSurvival (outcome)']]#'pCR (outcome)']]\n",
    "data.drop(columns=['pCR (outcome)','RelapseFreeSurvival (outcome)'], axis=1, inplace=True)\n",
    "\n",
    "key_features = data[['ER', 'HER2', 'Gene']]\n",
    "data.drop(columns=['ER', 'HER2', 'Gene'], axis=1, inplace=True)\n",
    "\n",
    "target\n"
   ]
  },
  {
   "cell_type": "code",
   "execution_count": 61,
   "metadata": {},
   "outputs": [],
   "source": [
    "\n",
    "#NORMALISATION\n",
    "normalizer = Normalizer()\n",
    "vector_normalized_data = normalizer.fit_transform(data)\n"
   ]
  },
  {
   "cell_type": "code",
   "execution_count": 62,
   "metadata": {},
   "outputs": [],
   "source": [
    "\n",
    "#FEATURE REDUCTION\n",
    "pca = PCA(n_components=0.95)\n",
    "data_reduced = pca.fit_transform(vector_normalized_data)\n",
    "\n",
    "pca_complete = pd.DataFrame(data_reduced, index=data.index)\n",
    "pca_complete = pd.concat([pca_complete, key_features], axis=1)\n"
   ]
  },
  {
   "cell_type": "markdown",
   "metadata": {},
   "source": [
    "# Training Data"
   ]
  },
  {
   "cell_type": "code",
   "execution_count": 63,
   "metadata": {},
   "outputs": [],
   "source": [
    "param_grid = {\n",
    "    'C': [0.1, 1, 10, 100],  # Regularization parameter\n",
    "    'epsilon': [0.01, 0.1, 0.2],  # Epsilon values (larger values will ignore smaller errors)\n",
    "    'kernel': ['rbf']  # RBF is often effective, but you can also test 'linear' and 'poly'\n",
    "}\n",
    "\n",
    "#CHANGE ME\n",
    "model = SVR()\n"
   ]
  },
  {
   "cell_type": "code",
   "execution_count": 64,
   "metadata": {},
   "outputs": [],
   "source": [
    "n_folds = 4\n",
    "\n",
    "def train_model(data):\n",
    "    # Outer K-fold cross-validation\n",
    "    outer_cv = KFold(n_splits=n_folds, shuffle=True, random_state=42)\n",
    "\n",
    "    data = data.rename(str,axis=\"columns\") \n",
    "    \n",
    "    # Perform nested cross-validation\n",
    "    outer_results = []\n",
    "    for train_idx, test_idx in outer_cv.split(data, target):\n",
    "        # Split data\n",
    "        X_train, X_test = data.iloc[train_idx], data.iloc[test_idx]\n",
    "        y_train, y_test = np.ravel(target.iloc[train_idx]), np.ravel(target.iloc[test_idx])\n",
    "\n",
    "        # Inner loop: Hyperparameter tuning using GridSearchCV\n",
    "        inner_cv = KFold(n_splits=n_folds, shuffle=True, random_state=42)\n",
    "        grid_search = GridSearchCV(estimator=model, param_grid=param_grid, cv=inner_cv)\n",
    "        grid_search.fit(X_train, y_train)\n",
    "\n",
    "        # Evaluate on the test set\n",
    "        best_model = grid_search.best_estimator_\n",
    "        y_pred = best_model.predict(X_test)\n",
    "\n",
    "        # Collect results using regression metrics\n",
    "        mse = mean_squared_error(y_test, y_pred)\n",
    "        r2 = r2_score(y_test, y_pred)\n",
    "        mae = mean_absolute_error(y_test, y_pred)\n",
    "\n",
    "        # Collect results\n",
    "        outer_results.append({\n",
    "            \"best_params\": grid_search.best_params_,\n",
    "            \"mse\": mse,\n",
    "            \"r2\": r2,\n",
    "            \"mae\": mae,\n",
    "            \"model_score\": best_model.score(X_test, y_test)\n",
    "        })\n",
    "\n",
    "    # Print the results for each fold\n",
    "    for i, result in enumerate(outer_results, 1):\n",
    "        print(f\"Fold {i}\")\n",
    "        print(f\"Best Parameters: {result['best_params']}\")\n",
    "        print(f\"Mean Squared Error (MSE): {result['mse']:.4f}\")\n",
    "        print(f\"R-squared (R²): {result['r2']:.4f}\")\n",
    "        print(f\"Mean Absolute Error (MAE): {result['mae']:.4f}\")\n",
    "        print(f\"Model Score (R² on test set): {result['model_score']:.4f}\")\n",
    "        print(\"-\" * 40)\n",
    "\n",
    "    # Overall results\n",
    "    mean_mse = np.mean([res[\"mse\"] for res in outer_results])\n",
    "    mean_r2 = np.mean([res[\"r2\"] for res in outer_results])\n",
    "    mean_mae = np.mean([res[\"mae\"] for res in outer_results])\n",
    "\n",
    "    print(f\"Mean MSE: {mean_mse:.4f}\")\n",
    "    print(f\"Mean R²: {mean_r2:.4f}\")\n",
    "    print(f\"Mean MAE: {mean_mae:.4f}\")\n"
   ]
  },
  {
   "cell_type": "code",
   "execution_count": 65,
   "metadata": {},
   "outputs": [
    {
     "name": "stdout",
     "output_type": "stream",
     "text": [
      "Fold 1\n",
      "Best Parameters: {'C': 1, 'epsilon': 0.2, 'kernel': 'rbf'}\n",
      "Mean Squared Error (MSE): 775.6060\n",
      "R-squared (R²): -0.0133\n",
      "Mean Absolute Error (MAE): 21.6621\n",
      "Model Score (R² on test set): -0.0133\n",
      "----------------------------------------\n",
      "Fold 2\n",
      "Best Parameters: {'C': 0.1, 'epsilon': 0.1, 'kernel': 'rbf'}\n",
      "Mean Squared Error (MSE): 725.4279\n",
      "R-squared (R²): 0.0071\n",
      "Mean Absolute Error (MAE): 21.5072\n",
      "Model Score (R² on test set): 0.0071\n",
      "----------------------------------------\n",
      "Fold 3\n",
      "Best Parameters: {'C': 1, 'epsilon': 0.2, 'kernel': 'rbf'}\n",
      "Mean Squared Error (MSE): 669.8834\n",
      "R-squared (R²): -0.0062\n",
      "Mean Absolute Error (MAE): 20.3964\n",
      "Model Score (R² on test set): -0.0062\n",
      "----------------------------------------\n",
      "Fold 4\n",
      "Best Parameters: {'C': 1, 'epsilon': 0.2, 'kernel': 'rbf'}\n",
      "Mean Squared Error (MSE): 783.6476\n",
      "R-squared (R²): -0.0134\n",
      "Mean Absolute Error (MAE): 21.2867\n",
      "Model Score (R² on test set): -0.0134\n",
      "----------------------------------------\n",
      "Mean MSE: 738.6412\n",
      "Mean R²: -0.0064\n",
      "Mean MAE: 21.2131\n"
     ]
    }
   ],
   "source": [
    "train_model(pca_complete)"
   ]
  },
  {
   "cell_type": "markdown",
   "metadata": {},
   "source": [
    "# Re-Train Single Final Model on entire dataset using best-performing hyperparameters"
   ]
  }
 ],
 "metadata": {
  "kernelspec": {
   "display_name": "Python 3",
   "language": "python",
   "name": "python3"
  },
  "language_info": {
   "codemirror_mode": {
    "name": "ipython",
    "version": 3
   },
   "file_extension": ".py",
   "mimetype": "text/x-python",
   "name": "python",
   "nbconvert_exporter": "python",
   "pygments_lexer": "ipython3",
   "version": "3.13.0"
  }
 },
 "nbformat": 4,
 "nbformat_minor": 2
}
