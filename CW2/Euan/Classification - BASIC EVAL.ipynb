{
 "cells": [
  {
   "cell_type": "markdown",
   "metadata": {},
   "source": [
    "# Imports"
   ]
  },
  {
   "cell_type": "code",
   "execution_count": 19,
   "metadata": {},
   "outputs": [],
   "source": [
    "from sklearn.datasets import load_iris\n",
    "from sklearn.svm import SVC\n",
    "from sklearn.model_selection import GridSearchCV, KFold\n",
    "from sklearn.metrics import classification_report\n",
    "import pandas as pd\n",
    "import numpy as np\n",
    "from sklearn.decomposition import PCA\n",
    "from sklearn.svm import SVC\n",
    "from sklearn.preprocessing import StandardScaler, Normalizer\n",
    "from sklearn.impute import SimpleImputer\n",
    "from sklearn.model_selection import train_test_split"
   ]
  },
  {
   "cell_type": "markdown",
   "metadata": {},
   "source": [
    "# Data Prep\n"
   ]
  },
  {
   "cell_type": "code",
   "execution_count": 20,
   "metadata": {},
   "outputs": [],
   "source": [
    "data = pd.read_csv('../TrainDataset2024.csv', index_col=0)\n",
    "\n",
    "#MISSING DATA\n",
    "data.replace(999, np.nan, inplace=True)\n",
    "\n",
    "imputer = SimpleImputer(strategy='median')\n",
    "data = pd.DataFrame(imputer.fit_transform(data), columns=data.columns,index=data.index)\n",
    "\n",
    "\n",
    "target = data[['pCR (outcome)']]#'RelapseFreeSurvival (outcome)']]\n",
    "data.drop(columns=['pCR (outcome)','RelapseFreeSurvival (outcome)'], axis=1, inplace=True)\n",
    "\n",
    "key_features = data[['ER', 'HER2', 'Gene']]\n",
    "data.drop(columns=['ER', 'HER2', 'Gene'], axis=1, inplace=True)\n"
   ]
  },
  {
   "cell_type": "code",
   "execution_count": 21,
   "metadata": {},
   "outputs": [],
   "source": [
    "\n",
    "#NORMALISATION\n",
    "normalizer = Normalizer()\n",
    "vector_normalized_data = normalizer.fit_transform(data)\n"
   ]
  },
  {
   "cell_type": "code",
   "execution_count": 22,
   "metadata": {},
   "outputs": [],
   "source": [
    "\n",
    "#FEATURE REDUCTION\n",
    "pca = PCA(n_components=0.95)\n",
    "data_reduced = pca.fit_transform(vector_normalized_data)\n",
    "\n",
    "pca_complete = pd.DataFrame(data_reduced, index=data.index)\n",
    "pca_complete = pd.concat([pca_complete, key_features], axis=1)\n"
   ]
  },
  {
   "cell_type": "markdown",
   "metadata": {},
   "source": [
    "# Training Data"
   ]
  },
  {
   "cell_type": "code",
   "execution_count": 23,
   "metadata": {},
   "outputs": [],
   "source": [
    "param_grid = {\n",
    "    'C': [0.1, 1, 10], \n",
    "    'gamma': [0.001, 0.01, 0.1], \n",
    "    'kernel': ['rbf', 'linear'] \n",
    "}\n",
    "\n",
    "#CHANGE ME\n",
    "model = SVC(class_weight='balanced')\n"
   ]
  },
  {
   "cell_type": "code",
   "execution_count": 24,
   "metadata": {},
   "outputs": [],
   "source": [
    "n_folds = 4\n",
    "\n",
    "def train_model(data):\n",
    "    # Outer K-fold cross-validation\n",
    "    outer_cv = KFold(n_splits=n_folds, shuffle=True, random_state=42)\n",
    "\n",
    "    data = data.rename(str,axis=\"columns\") \n",
    "    \n",
    "    # Perform nested cross-validation\n",
    "    outer_results = []\n",
    "    for train_idx, test_idx in outer_cv.split(data, target):\n",
    "        # Split data\n",
    "        X_train, X_test = data.iloc[train_idx], data.iloc[test_idx]\n",
    "        y_train, y_test = np.ravel(target.iloc[train_idx]), np.ravel(target.iloc[test_idx])\n",
    "\n",
    "        # Inner loop: Hyperparameter tuning using GridSearchCV\n",
    "        inner_cv = KFold(n_splits=n_folds, shuffle=True, random_state=42)\n",
    "        grid_search = GridSearchCV(estimator=model, param_grid=param_grid, cv=inner_cv)\n",
    "        grid_search.fit(X_train, y_train)\n",
    "\n",
    "        # Evaluate on the test set\n",
    "        best_model = grid_search.best_estimator_\n",
    "        y_pred = best_model.predict(X_test)\n",
    "\n",
    "        # Collect results\n",
    "        outer_results.append({\n",
    "            \"best_params\": grid_search.best_params_,\n",
    "            \"classification_report\": classification_report(y_test, y_pred, output_dict=True, zero_division=0),\n",
    "            \"accuracy\": best_model.score(X_test, y_test)\n",
    "        })\n",
    "\n",
    "    # Print the results for each fold\n",
    "    for i, result in enumerate(outer_results, 1):\n",
    "        print(f\"Fold {i}\")\n",
    "        print(f\"Best Parameters: {result['best_params']}\")\n",
    "        print(\"Classification Report:\")\n",
    "        print(classification_report(\n",
    "            y_test, y_pred, target_names=['0.0', '1.0'], zero_division=0\n",
    "        ))\n",
    "        print(f\"Accuracy: {result['accuracy']:.4f}\")\n",
    "        print(\"-\" * 40)\n",
    "\n",
    "    # Overall results\n",
    "    mean_accuracy = sum(res[\"accuracy\"] for res in outer_results) / len(outer_results)\n",
    "    print(f\"Mean Accuracy: {mean_accuracy:.4f}\")\n"
   ]
  },
  {
   "cell_type": "code",
   "execution_count": 25,
   "metadata": {},
   "outputs": [
    {
     "name": "stdout",
     "output_type": "stream",
     "text": [
      "Fold 1\n",
      "Best Parameters: {'C': 1, 'gamma': 0.01, 'kernel': 'rbf'}\n",
      "Classification Report:\n",
      "              precision    recall  f1-score   support\n",
      "\n",
      "         0.0       0.90      0.82      0.86        80\n",
      "         1.0       0.48      0.65      0.55        20\n",
      "\n",
      "    accuracy                           0.79       100\n",
      "   macro avg       0.69      0.74      0.71       100\n",
      "weighted avg       0.82      0.79      0.80       100\n",
      "\n",
      "Accuracy: 0.7600\n",
      "----------------------------------------\n",
      "Fold 2\n",
      "Best Parameters: {'C': 0.1, 'gamma': 0.001, 'kernel': 'rbf'}\n",
      "Classification Report:\n",
      "              precision    recall  f1-score   support\n",
      "\n",
      "         0.0       0.90      0.82      0.86        80\n",
      "         1.0       0.48      0.65      0.55        20\n",
      "\n",
      "    accuracy                           0.79       100\n",
      "   macro avg       0.69      0.74      0.71       100\n",
      "weighted avg       0.82      0.79      0.80       100\n",
      "\n",
      "Accuracy: 0.2300\n",
      "----------------------------------------\n",
      "Fold 3\n",
      "Best Parameters: {'C': 0.1, 'gamma': 0.1, 'kernel': 'rbf'}\n",
      "Classification Report:\n",
      "              precision    recall  f1-score   support\n",
      "\n",
      "         0.0       0.90      0.82      0.86        80\n",
      "         1.0       0.48      0.65      0.55        20\n",
      "\n",
      "    accuracy                           0.79       100\n",
      "   macro avg       0.69      0.74      0.71       100\n",
      "weighted avg       0.82      0.79      0.80       100\n",
      "\n",
      "Accuracy: 0.7100\n",
      "----------------------------------------\n",
      "Fold 4\n",
      "Best Parameters: {'C': 1, 'gamma': 0.01, 'kernel': 'rbf'}\n",
      "Classification Report:\n",
      "              precision    recall  f1-score   support\n",
      "\n",
      "         0.0       0.90      0.82      0.86        80\n",
      "         1.0       0.48      0.65      0.55        20\n",
      "\n",
      "    accuracy                           0.79       100\n",
      "   macro avg       0.69      0.74      0.71       100\n",
      "weighted avg       0.82      0.79      0.80       100\n",
      "\n",
      "Accuracy: 0.7900\n",
      "----------------------------------------\n",
      "Mean Accuracy: 0.6225\n"
     ]
    }
   ],
   "source": [
    "train_model(pca_complete)"
   ]
  },
  {
   "cell_type": "markdown",
   "metadata": {},
   "source": [
    "# Re-Train Single Final Model on entire dataset using best-performing hyperparameters"
   ]
  },
  {
   "cell_type": "code",
   "execution_count": 26,
   "metadata": {},
   "outputs": [],
   "source": [
    "model = SVC(class_weight='balanced',kernel='rbf', C=1, gamma=0.01)\n",
    "\n",
    "def train_model_single(data):\n",
    "\n",
    "    data = data.rename(str,axis=\"columns\") \n",
    "    \n",
    "    # Split data into 80% training and 20% testing\n",
    "    X_train, X_test, y_train, y_test = train_test_split(data, target, test_size=0.2, random_state=42)\n",
    "\n",
    "    # Train the model on the training data\n",
    "    model.fit(X_train, np.ravel(y_train))\n",
    "\n",
    "    # Predict on the test set\n",
    "    y_pred = model.predict(X_test)\n",
    "\n",
    "    # Print the results\n",
    "    print(\"Classification Report:\")\n",
    "    print(classification_report(np.ravel(y_test), y_pred, target_names=['0.0', '1.0'], zero_division=0))\n",
    "    print(f\"Accuracy: {model.score(X_test, y_test):.4f}\")"
   ]
  },
  {
   "cell_type": "code",
   "execution_count": 27,
   "metadata": {},
   "outputs": [
    {
     "name": "stdout",
     "output_type": "stream",
     "text": [
      "Classification Report:\n",
      "              precision    recall  f1-score   support\n",
      "\n",
      "         0.0       0.89      0.78      0.83        64\n",
      "         1.0       0.42      0.62      0.50        16\n",
      "\n",
      "    accuracy                           0.75        80\n",
      "   macro avg       0.65      0.70      0.67        80\n",
      "weighted avg       0.80      0.75      0.77        80\n",
      "\n",
      "Accuracy: 0.7500\n"
     ]
    }
   ],
   "source": [
    "train_model_single(pca_complete)"
   ]
  }
 ],
 "metadata": {
  "kernelspec": {
   "display_name": "Python 3",
   "language": "python",
   "name": "python3"
  },
  "language_info": {
   "codemirror_mode": {
    "name": "ipython",
    "version": 3
   },
   "file_extension": ".py",
   "mimetype": "text/x-python",
   "name": "python",
   "nbconvert_exporter": "python",
   "pygments_lexer": "ipython3",
   "version": "3.13.0"
  }
 },
 "nbformat": 4,
 "nbformat_minor": 2
}
