{
 "cells": [
  {
   "cell_type": "markdown",
   "metadata": {},
   "source": [
    "# Imports"
   ]
  },
  {
   "cell_type": "code",
   "execution_count": 8,
   "metadata": {},
   "outputs": [],
   "source": [
    "import pandas as pd\n",
    "import numpy as np\n",
    "from sklearn.decomposition import PCA\n",
    "from sklearn.svm import SVR\n",
    "from sklearn.preprocessing import Normalizer\n",
    "from sklearn.impute import SimpleImputer\n",
    "from sklearn.model_selection import train_test_split"
   ]
  },
  {
   "cell_type": "markdown",
   "metadata": {},
   "source": [
    "# Data Prep (Training)\n"
   ]
  },
  {
   "cell_type": "code",
   "execution_count": 9,
   "metadata": {},
   "outputs": [],
   "source": [
    "dataTrain = pd.read_csv('TrainDataset2024.csv', index_col=0)\n",
    "\n",
    "#MISSING DATA\n",
    "dataTrain.replace(999, np.nan, inplace=True)\n",
    "\n",
    "imputer = SimpleImputer(strategy='median')\n",
    "dataTrain = pd.DataFrame(imputer.fit_transform(dataTrain), columns=dataTrain.columns,index=dataTrain.index)\n",
    "\n",
    "\n",
    "target = dataTrain[['RelapseFreeSurvival (outcome)']]#'pCR (outcome)']]\n",
    "dataTrain.drop(columns=['pCR (outcome)','RelapseFreeSurvival (outcome)'], axis=1, inplace=True)\n",
    "\n",
    "key_features = dataTrain[['ER', 'HER2', 'Gene']]\n",
    "dataTrain.drop(columns=['ER', 'HER2', 'Gene'], axis=1, inplace=True)\n"
   ]
  },
  {
   "cell_type": "code",
   "execution_count": 10,
   "metadata": {},
   "outputs": [],
   "source": [
    "\n",
    "#NORMALISATION\n",
    "normalizer = Normalizer()\n",
    "vector_normalized_data_train = normalizer.fit_transform(dataTrain)\n"
   ]
  },
  {
   "cell_type": "code",
   "execution_count": 11,
   "metadata": {},
   "outputs": [],
   "source": [
    "\n",
    "#FEATURE REDUCTION\n",
    "from sklearn.ensemble import RandomForestRegressor\n",
    "from sklearn.feature_selection import RFE\n",
    "\n",
    "rfe_class = RFE(estimator=RandomForestRegressor(), n_features_to_select=10) \n",
    "data_reduced = rfe_class.fit_transform(vector_normalized_data_train, np.ravel(target))\n",
    "\n",
    "pca_complete_train = pd.DataFrame(data_reduced, index=dataTrain.index)\n",
    "pca_complete_train = pd.concat([pca_complete_train, key_features], axis=1)\n"
   ]
  },
  {
   "cell_type": "markdown",
   "metadata": {},
   "source": [
    "# Data Prep (Test)\n"
   ]
  },
  {
   "cell_type": "code",
   "execution_count": 12,
   "metadata": {},
   "outputs": [],
   "source": [
    "dataTest = pd.read_csv('FinalTestDataset2024.csv', index_col=0)\n",
    "\n",
    "#MISSING DATA\n",
    "dataTest.replace(999, np.nan, inplace=True)\n",
    "\n",
    "imputer = SimpleImputer(strategy='median')\n",
    "dataTest = pd.DataFrame(imputer.fit_transform(dataTest), columns=dataTest.columns,index=dataTest.index)\n",
    "\n",
    "key_features = dataTest[['ER', 'HER2', 'Gene']]\n",
    "dataTest.drop(columns=['ER', 'HER2', 'Gene'], axis=1, inplace=True)\n"
   ]
  },
  {
   "cell_type": "code",
   "execution_count": 13,
   "metadata": {},
   "outputs": [],
   "source": [
    "\n",
    "#NORMALISATION\n",
    "normalizer = Normalizer()\n",
    "vector_normalized_data_test = normalizer.fit_transform(dataTest)\n"
   ]
  },
  {
   "cell_type": "code",
   "execution_count": 14,
   "metadata": {},
   "outputs": [],
   "source": [
    "\n",
    "#FEATURE REDUCTION\n",
    "data_reduced_test = rfe_class.transform(vector_normalized_data_test)\n",
    "\n",
    "pca_complete_test = pd.DataFrame(data_reduced_test, index=dataTest.index)\n",
    "pca_complete_test = pd.concat([pca_complete_test, key_features], axis=1)\n"
   ]
  },
  {
   "cell_type": "markdown",
   "metadata": {},
   "source": [
    "# Training"
   ]
  },
  {
   "cell_type": "code",
   "execution_count": 15,
   "metadata": {},
   "outputs": [],
   "source": [
    "model = SVR(kernel='rbf', C=1,epsilon=0.2)\n",
    "\n",
    "data = pca_complete_train.rename(str,axis=\"columns\") \n",
    "    \n",
    "# Split data into 80% training and 20% testing\n",
    "X_train, X_test, y_train, y_test = train_test_split(data, target, test_size=0.2, random_state=42)\n",
    "\n",
    "# Train the model on the training data\n",
    "model.fit(X_train, np.ravel(y_train))\n",
    "\n",
    "# Predict on the test set\n",
    "data = pca_complete_test.rename(str,axis=\"columns\") \n",
    "predictions = model.predict(data)\n",
    "\n",
    "results = pd.DataFrame({\n",
    "    'Index': data.index,\n",
    "    'Prediction': predictions\n",
    "})\n",
    "\n",
    "results.to_csv('RFSPrediction.csv', index=False)"
   ]
  }
 ],
 "metadata": {
  "kernelspec": {
   "display_name": "Python 3",
   "language": "python",
   "name": "python3"
  },
  "language_info": {
   "codemirror_mode": {
    "name": "ipython",
    "version": 3
   },
   "file_extension": ".py",
   "mimetype": "text/x-python",
   "name": "python",
   "nbconvert_exporter": "python",
   "pygments_lexer": "ipython3",
   "version": "3.13.0"
  }
 },
 "nbformat": 4,
 "nbformat_minor": 2
}
