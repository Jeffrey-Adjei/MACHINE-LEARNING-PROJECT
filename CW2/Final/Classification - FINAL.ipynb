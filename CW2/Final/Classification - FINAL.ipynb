{
 "cells": [
  {
   "cell_type": "markdown",
   "metadata": {},
   "source": [
    "# Imports"
   ]
  },
  {
   "cell_type": "code",
   "execution_count": 54,
   "metadata": {},
   "outputs": [],
   "source": [
    "from sklearn.datasets import load_iris\n",
    "from sklearn.svm import SVC\n",
    "from sklearn.model_selection import GridSearchCV, KFold\n",
    "from sklearn.metrics import classification_report\n",
    "import pandas as pd\n",
    "import numpy as np\n",
    "from sklearn.decomposition import PCA\n",
    "from sklearn.svm import SVC\n",
    "from sklearn.preprocessing import StandardScaler, Normalizer\n",
    "from sklearn.impute import SimpleImputer\n",
    "from sklearn.model_selection import train_test_split"
   ]
  },
  {
   "cell_type": "markdown",
   "metadata": {},
   "source": [
    "# Data Prep (Training)\n"
   ]
  },
  {
   "cell_type": "code",
   "execution_count": 55,
   "metadata": {},
   "outputs": [],
   "source": [
    "dataTrain = pd.read_csv('TrainDataset2024.csv', index_col=0)\n",
    "\n",
    "#MISSING DATA\n",
    "dataTrain.replace(999, np.nan, inplace=True)\n",
    "\n",
    "imputer = SimpleImputer(strategy='median')\n",
    "dataTrain = pd.DataFrame(imputer.fit_transform(dataTrain), columns=dataTrain.columns,index=dataTrain.index)\n",
    "\n",
    "\n",
    "target = dataTrain[['pCR (outcome)']]#'RelapseFreeSurvival (outcome)']]\n",
    "dataTrain.drop(columns=['pCR (outcome)','RelapseFreeSurvival (outcome)'], axis=1, inplace=True)\n",
    "\n",
    "key_features = dataTrain[['ER', 'HER2', 'Gene']]\n",
    "dataTrain.drop(columns=['ER', 'HER2', 'Gene'], axis=1, inplace=True)\n"
   ]
  },
  {
   "cell_type": "code",
   "execution_count": 56,
   "metadata": {},
   "outputs": [],
   "source": [
    "\n",
    "#NORMALISATION\n",
    "normalizer = Normalizer()\n",
    "vector_normalized_data_train = normalizer.fit_transform(dataTrain)\n"
   ]
  },
  {
   "cell_type": "code",
   "execution_count": 57,
   "metadata": {},
   "outputs": [],
   "source": [
    "\n",
    "#FEATURE REDUCTION\n",
    "pca = PCA(n_components=0.95)\n",
    "data_reduced_train = pca.fit_transform(vector_normalized_data_train)\n",
    "\n",
    "pca_complete_train = pd.DataFrame(data_reduced_train, index=dataTrain.index)\n",
    "pca_complete_train = pd.concat([pca_complete_train, key_features], axis=1)\n"
   ]
  },
  {
   "cell_type": "markdown",
   "metadata": {},
   "source": [
    "# Data Prep (Test)\n"
   ]
  },
  {
   "cell_type": "code",
   "execution_count": 58,
   "metadata": {},
   "outputs": [],
   "source": [
    "dataTest = pd.read_csv('TestDatasetExample.csv', index_col=0)\n",
    "\n",
    "#MISSING DATA\n",
    "dataTest.replace(999, np.nan, inplace=True)\n",
    "\n",
    "imputer = SimpleImputer(strategy='median')\n",
    "dataTest = pd.DataFrame(imputer.fit_transform(dataTest), columns=dataTest.columns,index=dataTest.index)\n",
    "\n",
    "key_features = dataTest[['ER', 'HER2', 'Gene']]\n",
    "dataTest.drop(columns=['ER', 'HER2', 'Gene'], axis=1, inplace=True)\n"
   ]
  },
  {
   "cell_type": "code",
   "execution_count": 59,
   "metadata": {},
   "outputs": [],
   "source": [
    "\n",
    "#NORMALISATION\n",
    "normalizer = Normalizer()\n",
    "vector_normalized_data_test = normalizer.fit_transform(dataTest)\n"
   ]
  },
  {
   "cell_type": "code",
   "execution_count": 60,
   "metadata": {},
   "outputs": [],
   "source": [
    "\n",
    "#FEATURE REDUCTION\n",
    "data_reduced_test = pca.transform(vector_normalized_data_test)\n",
    "\n",
    "pca_complete_test = pd.DataFrame(data_reduced_test, index=dataTest.index)\n",
    "pca_complete_test = pd.concat([pca_complete_test, key_features], axis=1)\n"
   ]
  },
  {
   "cell_type": "markdown",
   "metadata": {},
   "source": [
    "# Training"
   ]
  },
  {
   "cell_type": "code",
   "execution_count": 61,
   "metadata": {},
   "outputs": [
    {
     "name": "stdout",
     "output_type": "stream",
     "text": [
      "TRG002728: Prediction = 0.0\n",
      "TRG002649: Prediction = 1.0\n",
      "TRG002628: Prediction = 1.0\n"
     ]
    }
   ],
   "source": [
    "model = SVC(class_weight='balanced',kernel='rbf', C=1, gamma=0.01)\n",
    "\n",
    "data = pca_complete_train.rename(str,axis=\"columns\") \n",
    "    \n",
    "# Split data into 80% training and 20% testing\n",
    "X_train, X_test, y_train, y_test = train_test_split(data, target, test_size=0.2, random_state=42)\n",
    "\n",
    "# Train the model on the training data\n",
    "model.fit(X_train, np.ravel(y_train))\n",
    "\n",
    "# Predict on the test set\n",
    "data = pca_complete_test.rename(str,axis=\"columns\") \n",
    "predictions = model.predict(data)\n",
    "\n",
    "for index, prediction in zip(data.index, predictions):\n",
    "    print(f\"{index}: Prediction = {prediction}\")"
   ]
  }
 ],
 "metadata": {
  "kernelspec": {
   "display_name": "Python 3",
   "language": "python",
   "name": "python3"
  },
  "language_info": {
   "codemirror_mode": {
    "name": "ipython",
    "version": 3
   },
   "file_extension": ".py",
   "mimetype": "text/x-python",
   "name": "python",
   "nbconvert_exporter": "python",
   "pygments_lexer": "ipython3",
   "version": "3.12.2"
  }
 },
 "nbformat": 4,
 "nbformat_minor": 2
}
